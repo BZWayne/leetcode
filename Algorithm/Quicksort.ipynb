{
 "cells": [
  {
   "cell_type": "code",
   "execution_count": 5,
   "metadata": {},
   "outputs": [],
   "source": [
    "def quickSort(A):\n",
    "    return quickSorting(A, 0, len(A)-1)"
   ]
  },
  {
   "cell_type": "code",
   "execution_count": 6,
   "metadata": {},
   "outputs": [],
   "source": [
    "def quickSorting(A,low,high): \n",
    "    if low < high: \n",
    "        pi = partition(A,low,high) \n",
    "        quickSorting(A, low, pi-1) \n",
    "        quickSorting(A, pi+1, high)\n",
    "        return A"
   ]
  },
  {
   "cell_type": "code",
   "execution_count": 7,
   "metadata": {},
   "outputs": [],
   "source": [
    "def partition(A,low,high): \n",
    "    i = ( high-1 )       #index of the smallest element\n",
    "    pivot = A[high]     #pivot is the last element\n",
    "    for j in range(low , high): \n",
    "        if   A[j] <= pivot: \n",
    "            i = i+1 \n",
    "            A[i],A[j] = A[j],A[i] \n",
    "    A[i+1],A[high] = A[high],A[i+1] \n",
    "    return ( i+1 )"
   ]
  },
  {
   "cell_type": "code",
   "execution_count": 8,
   "metadata": {},
   "outputs": [
    {
     "name": "stdout",
     "output_type": "stream",
     "text": [
      "[1, 4, 5, 2342, 6443, 7548645646]\n"
     ]
    }
   ],
   "source": [
    "arr = [1, 4, 5, 7548645646, 6443, 2342]\n",
    "res = quickSort(arr)\n",
    "print(res)"
   ]
  },
  {
   "cell_type": "code",
   "execution_count": null,
   "metadata": {},
   "outputs": [],
   "source": []
  }
 ],
 "metadata": {
  "kernelspec": {
   "display_name": "Python 3",
   "language": "python",
   "name": "python3"
  },
  "language_info": {
   "codemirror_mode": {
    "name": "ipython",
    "version": 3
   },
   "file_extension": ".py",
   "mimetype": "text/x-python",
   "name": "python",
   "nbconvert_exporter": "python",
   "pygments_lexer": "ipython3",
   "version": "3.7.3"
  }
 },
 "nbformat": 4,
 "nbformat_minor": 2
}
